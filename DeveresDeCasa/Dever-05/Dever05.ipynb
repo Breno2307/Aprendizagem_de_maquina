{
  "nbformat": 4,
  "nbformat_minor": 0,
  "metadata": {
    "colab": {
      "provenance": [],
      "authorship_tag": "ABX9TyMIX62MIIcB+PuYyCdW7rNK",
      "include_colab_link": true
    },
    "kernelspec": {
      "name": "python3",
      "display_name": "Python 3"
    },
    "language_info": {
      "name": "python"
    }
  },
  "cells": [
    {
      "cell_type": "markdown",
      "metadata": {
        "id": "view-in-github",
        "colab_type": "text"
      },
      "source": [
        "<a href=\"https://colab.research.google.com/github/Breno2307/Aprendizagem_de_maquina/blob/main/Dever05.ipynb\" target=\"_parent\"><img src=\"https://colab.research.google.com/assets/colab-badge.svg\" alt=\"Open In Colab\"/></a>"
      ]
    },
    {
      "cell_type": "code",
      "execution_count": 3,
      "metadata": {
        "colab": {
          "base_uri": "https://localhost:8080/"
        },
        "id": "RzRt76Duw5U_",
        "outputId": "d27a2bc8-16f7-414b-ac58-af87cc9f892d"
      },
      "outputs": [
        {
          "output_type": "stream",
          "name": "stdout",
          "text": [
            "Digite o comprimento da sépala: 5.1\n",
            "Digite a largura da sépala: 3.5\n",
            "Digite o comprimento da pétala: 1.4\n",
            "Digite a largura da pétala: 0.2\n",
            "Espécie prevista: setosa\n"
          ]
        }
      ],
      "source": [
        "from sklearn import datasets\n",
        "from sklearn.neighbors import KNeighborsClassifier\n",
        "from sklearn.datasets import load_iris\n",
        "\n",
        "iris = load_iris()\n",
        "\n",
        "X = iris.data\n",
        "y = iris.target\n",
        "nomes_especies = iris.target_names\n",
        "\n",
        "modelo = KNeighborsClassifier(n_neighbors=3)\n",
        "modelo.fit(X, y)\n",
        "\n",
        "sepal_length = float(input(\"Digite o comprimento da sépala: \"))\n",
        "sepal_width = float(input(\"Digite a largura da sépala: \"))\n",
        "petal_length = float(input(\"Digite o comprimento da pétala: \"))\n",
        "petal_width = float(input(\"Digite a largura da pétala: \"))\n",
        "\n",
        "input_data = [[sepal_length, sepal_width, petal_length, petal_width]]\n",
        "\n",
        "prediction = modelo.predict(input_data)[0]\n",
        "\n",
        "print(\"Espécie prevista:\", nomes_especies[prediction])\n"
      ]
    }
  ]
}