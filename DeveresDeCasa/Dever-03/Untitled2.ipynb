{
  "nbformat": 4,
  "nbformat_minor": 0,
  "metadata": {
    "colab": {
      "provenance": [],
      "authorship_tag": "ABX9TyMCK1uyA/Ccdfr+CMT4qh4M",
      "include_colab_link": true
    },
    "kernelspec": {
      "name": "python3",
      "display_name": "Python 3"
    },
    "language_info": {
      "name": "python"
    }
  },
  "cells": [
    {
      "cell_type": "markdown",
      "metadata": {
        "id": "view-in-github",
        "colab_type": "text"
      },
      "source": [
        "<a href=\"https://colab.research.google.com/github/Breno2307/Aprendizagem_de_maquina/blob/main/Untitled2.ipynb\" target=\"_parent\"><img src=\"https://colab.research.google.com/assets/colab-badge.svg\" alt=\"Open In Colab\"/></a>"
      ]
    },
    {
      "cell_type": "code",
      "execution_count": null,
      "metadata": {
        "id": "RVj7wckZbq0U"
      },
      "outputs": [],
      "source": [
        "\n",
        "import csv\n",
        "\n",
        "\n",
        "with open('dados.csv', 'w', newline='') as csvfile:\n",
        "    writer = csv.writer(csvfile)\n",
        "    writer.writerow(['Nome', 'Idade'])\n",
        "    writer.writerow(['Ana', 25])\n",
        "    writer.writerow(['Bruno', 30])\n",
        "    writer.writerow(['Carla', 22])\n",
        "    writer.writerow(['Daniel', 28])\n",
        "    writer.writerow(['Eduardo', 35])\n",
        "\n",
        "\n",
        "data = []\n",
        "with open('dados.csv', 'r') as csvfile:\n",
        "    reader = csv.DictReader(csvfile)\n",
        "    for row in reader:\n",
        "        data.append(row)\n",
        "\n",
        "nome_digitado = input(\"Digite um nome: \")\n",
        "\n",
        "\n",
        "nome_encontrado = False\n",
        "for pessoa in data:\n",
        "    if pessoa['Nome'] == nome_digitado:\n",
        "        nome_encontrado = True\n",
        "        idade = int(pessoa['Idade'])\n",
        "\n",
        "\n",
        "        idades = [int(p['Idade']) for p in data]\n",
        "        maior_idade = max(idades)\n",
        "\n",
        "\n",
        "        if idade == maior_idade:\n",
        "            print(f\"{nome_digitado} tem {idade} anos, é a pessoa mais velha da lista.\")\n",
        "        else:\n",
        "            print(f\"{nome_digitado} tem {idade} anos, não é a pessoa mais velha da lista.\")\n",
        "        break\n",
        "\n",
        "if not nome_encontrado:\n",
        "    print(\"Nome não encontrado.\")\n"
      ]
    }
  ]
}